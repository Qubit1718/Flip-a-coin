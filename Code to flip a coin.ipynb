{
 "cells": [
  {
   "cell_type": "markdown",
   "metadata": {},
   "source": [
    "# Flipping a coin using Quantum Computer"
   ]
  },
  {
   "cell_type": "markdown",
   "metadata": {},
   "source": [
    "### Hola! Here we are going to flip a coin using basic gates and simulators in qiskit and we shall run it on a real quantum computer. Let's see how...\n",
    "\n",
    "#### Requirements:\n",
    "1. qiskit  -  pip install qiskit \n"
   ]
  },
  {
   "cell_type": "code",
   "execution_count": 2,
   "metadata": {},
   "outputs": [],
   "source": [
    "#Uncomment the given line below to install the required ibraries to run this code\n",
    "#pip install qiskit"
   ]
  },
  {
   "cell_type": "code",
   "execution_count": 3,
   "metadata": {},
   "outputs": [],
   "source": [
    "# Importing required libraries\n",
    "# QuantumCircuit - It is a list of integers, where we can define the number of qubits and classical bits that are required to design our circuit.  \n",
    "# Aer - This is an element in qiskit which provides high-performance quantum computing simulators with realistic noise models.\n",
    "# execute - This executes our circuit on the simulator which we provide in the backend.\n",
    "from qiskit import QuantumCircuit, Aer, execute, IBMQ"
   ]
  },
  {
   "cell_type": "code",
   "execution_count": 4,
   "metadata": {},
   "outputs": [
    {
     "data": {
      "text/plain": [
       "<qiskit.circuit.instructionset.InstructionSet at 0x198a1f3fd00>"
      ]
     },
     "execution_count": 4,
     "metadata": {},
     "output_type": "execute_result"
    }
   ],
   "source": [
    "# 1. Intitializing QC\n",
    "# 2. Apply a hadamard gate which takes the two states of our qubit into superposition(which is same as flipping a coin)\n",
    "# 3. Measure the output to a classical bit so that we can see whether we get a head or tail.\n",
    "qc = QuantumCircuit(1,1)\n",
    "qc.h(0)\n",
    "qc.measure([0],[0])\n",
    "#qc.draw('mpl') uncomment this line if you want to see how the circuit looks. "
   ]
  },
  {
   "cell_type": "code",
   "execution_count": 5,
   "metadata": {},
   "outputs": [],
   "source": [
    "# Defining flip_coin function to flip the coin\n",
    "# inputs  - We need to tell the quantum computer the backend that it should use, here we go with 'qasm_simulator'\n",
    "#         - Execute the circuit that we designed and tell the quantum computer how many times it should run where we define it by shots.\n",
    "#         - Storing the data into counts.\n",
    "# outputs - Quantum Computer runs the circuit with the simulator we provided and tells whether the output is 0 or 1 i.e., \n",
    "#         -  as the qubit is in superposition which means it is in 0 and 1 state at the same time, so we measure it and it falls to either 0 state or 1 state.\n",
    "\n",
    "def flip_coin(qc):\n",
    "    backend = Aer.get_backend('qasm_simulator')\n",
    "    result = execute(qc, backend, shots=1).result()\n",
    "    counts = result.get_counts(qc)\n",
    "    print(counts)\n",
    "    return counts"
   ]
  },
  {
   "cell_type": "code",
   "execution_count": 6,
   "metadata": {},
   "outputs": [
    {
     "name": "stdout",
     "output_type": "stream",
     "text": [
      "{'1': 1}\n",
      "congo! Its Tails\n"
     ]
    }
   ],
   "source": [
    "# calling the function\n",
    "flipCoin = flip_coin(qc)\n",
    "\n",
    "#print(flipCoin) - {'0/1': 1}\n",
    "#print(type(flipCoin)) - \n",
    "\n",
    "# converting the Counts type to integer type \n",
    "output = int(list(flipCoin)[0])\n",
    "\n",
    "# defining a list containg 'Heads' and 'Tails' strings\n",
    "# When the output is 0 it prints Heads and when the output is 1 it prints Tails\n",
    "heads_or_tails = ['Heads','Tails']\n",
    "\n",
    "# printing the coin flip result\n",
    "print('congo! Its',heads_or_tails[output])"
   ]
  },
  {
   "cell_type": "markdown",
   "metadata": {},
   "source": [
    "### The above result we have got is by running it on a paritucalr simulator, now we shall see how to run this on a real quantum computer and compare the results. If that excites you, you are half there. "
   ]
  },
  {
   "cell_type": "code",
   "execution_count": 7,
   "metadata": {},
   "outputs": [
    {
     "data": {
      "text/plain": [
       "<AccountProvider for IBMQ(hub='ibm-q', group='open', project='main')>"
      ]
     },
     "execution_count": 7,
     "metadata": {},
     "output_type": "execute_result"
    }
   ],
   "source": [
    "#load your IBM qiskit account \n",
    "IBMQ.load_account()"
   ]
  },
  {
   "cell_type": "code",
   "execution_count": 8,
   "metadata": {},
   "outputs": [
    {
     "data": {
      "text/plain": [
       "[<IBMQSimulator('ibmq_qasm_simulator') from IBMQ(hub='ibm-q', group='open', project='main')>,\n",
       " <IBMQBackend('ibmqx2') from IBMQ(hub='ibm-q', group='open', project='main')>,\n",
       " <IBMQBackend('ibmq_16_melbourne') from IBMQ(hub='ibm-q', group='open', project='main')>,\n",
       " <IBMQBackend('ibmq_armonk') from IBMQ(hub='ibm-q', group='open', project='main')>,\n",
       " <IBMQBackend('ibmq_athens') from IBMQ(hub='ibm-q', group='open', project='main')>,\n",
       " <IBMQBackend('ibmq_santiago') from IBMQ(hub='ibm-q', group='open', project='main')>,\n",
       " <IBMQBackend('ibmq_lima') from IBMQ(hub='ibm-q', group='open', project='main')>,\n",
       " <IBMQBackend('ibmq_belem') from IBMQ(hub='ibm-q', group='open', project='main')>,\n",
       " <IBMQBackend('ibmq_quito') from IBMQ(hub='ibm-q', group='open', project='main')>,\n",
       " <IBMQSimulator('simulator_statevector') from IBMQ(hub='ibm-q', group='open', project='main')>,\n",
       " <IBMQSimulator('simulator_mps') from IBMQ(hub='ibm-q', group='open', project='main')>,\n",
       " <IBMQSimulator('simulator_extended_stabilizer') from IBMQ(hub='ibm-q', group='open', project='main')>,\n",
       " <IBMQSimulator('simulator_stabilizer') from IBMQ(hub='ibm-q', group='open', project='main')>,\n",
       " <IBMQBackend('ibmq_manila') from IBMQ(hub='ibm-q', group='open', project='main')>]"
      ]
     },
     "execution_count": 8,
     "metadata": {},
     "output_type": "execute_result"
    }
   ],
   "source": [
    "#you can see the list of providers that you have access to by running the code below \n",
    "provider = IBMQ.get_provider('ibm-q')\n",
    "provider.backends()"
   ]
  },
  {
   "cell_type": "code",
   "execution_count": 9,
   "metadata": {},
   "outputs": [],
   "source": [
    "#lets take ibmq_qasm_simulator as our backend simulator\n",
    "backend_ex = Aer.get_backend('qasm_simulator')\n",
    "\n",
    "#backend_ex  uncomment this line if you want to see the configuration of ibmq_qasm_simulator "
   ]
  },
  {
   "cell_type": "code",
   "execution_count": 10,
   "metadata": {},
   "outputs": [],
   "source": [
    "def coin_flip(qc):\n",
    "    result = execute(qc,backend_ex, shots=1).result()\n",
    "    counts = result.get_counts(qc)\n",
    "    return counts\n",
    "    "
   ]
  },
  {
   "cell_type": "code",
   "execution_count": 11,
   "metadata": {},
   "outputs": [
    {
     "name": "stdout",
     "output_type": "stream",
     "text": [
      "congo! Its Heads\n"
     ]
    }
   ],
   "source": [
    "# calling the function\n",
    "coinflip = coin_flip(qc)\n",
    "\n",
    "#print(coinflip) - {'0/1': 1}\n",
    "#print(type(coinflip)) - \n",
    "\n",
    "# converting the Counts type to integer type \n",
    "output = int(list(coinflip)[0])\n",
    "\n",
    "# defining a list containg 'Heads' and 'Tails' strings\n",
    "# When the output is 0 it prints Heads and when the output is 1 it prints Tails\n",
    "tails_or_heads = ['Heads','Tails']\n",
    "\n",
    "# printing the coin flip result\n",
    "print('congo! Its',tails_or_heads[output])"
   ]
  }
 ],
 "metadata": {
  "kernelspec": {
   "display_name": "Python 3",
   "language": "python",
   "name": "python3"
  },
  "language_info": {
   "codemirror_mode": {
    "name": "ipython",
    "version": 3
   },
   "file_extension": ".py",
   "mimetype": "text/x-python",
   "name": "python",
   "nbconvert_exporter": "python",
   "pygments_lexer": "ipython3",
   "version": "3.8.5"
  }
 },
 "nbformat": 4,
 "nbformat_minor": 4
}
